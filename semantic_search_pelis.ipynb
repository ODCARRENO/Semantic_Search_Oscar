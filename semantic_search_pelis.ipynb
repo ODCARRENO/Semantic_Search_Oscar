{
  "cells": [
    {
      "cell_type": "markdown",
      "metadata": {
        "id": "FFE58MJ5QD1a"
      },
      "source": [
        "## Instalando dependencias necesarias"
      ]
    },
    {
      "cell_type": "code",
      "execution_count": 1,
      "metadata": {
        "colab": {
          "base_uri": "https://localhost:8080/"
        },
        "id": "04kOkcY2QKmQ",
        "outputId": "1fae53c6-ecbc-4e1c-c923-9d97a11ee929"
      },
      "outputs": [
        {
          "name": "stdout",
          "output_type": "stream",
          "text": [
            "Requirement already satisfied: pandas in /usr/local/lib/python3.10/dist-packages (2.2.2)\n",
            "Requirement already satisfied: numpy>=1.22.4 in /usr/local/lib/python3.10/dist-packages (from pandas) (1.26.4)\n",
            "Requirement already satisfied: python-dateutil>=2.8.2 in /usr/local/lib/python3.10/dist-packages (from pandas) (2.8.2)\n",
            "Requirement already satisfied: pytz>=2020.1 in /usr/local/lib/python3.10/dist-packages (from pandas) (2024.2)\n",
            "Requirement already satisfied: tzdata>=2022.7 in /usr/local/lib/python3.10/dist-packages (from pandas) (2024.2)\n",
            "Requirement already satisfied: six>=1.5 in /usr/local/lib/python3.10/dist-packages (from python-dateutil>=2.8.2->pandas) (1.16.0)\n"
          ]
        }
      ],
      "source": [
        "# Instalamos las dependencias necesarias\n",
        "!pip install pandas"
      ]
    },
    {
      "cell_type": "code",
      "execution_count": 2,
      "metadata": {
        "id": "7cRBejimQD1b"
      },
      "outputs": [],
      "source": [
        "%%capture\n",
        "%pip install -U sentence-transformers pandas\n"
      ]
    },
    {
      "cell_type": "markdown",
      "metadata": {
        "id": "Qcd1bRdeQD1c"
      },
      "source": [
        "## Entendiendo el dataset"
      ]
    },
    {
      "cell_type": "code",
      "execution_count": 3,
      "metadata": {
        "colab": {
          "base_uri": "https://localhost:8080/"
        },
        "id": "41LBtLY6QD1c",
        "outputId": "b771ad20-2531-4e41-a0ec-bb98dea7060c"
      },
      "outputs": [
        {
          "name": "stdout",
          "output_type": "stream",
          "text": [
            "Mounted at /content/drive\n"
          ]
        }
      ],
      "source": [
        "# https://www.kaggle.com/datasets/omarhanyy/imdb-top-1000?resource=download\n",
        "# TODO: Cargar el archivo del dataset con  pandas\n",
        "\n",
        "from google.colab import drive\n",
        "drive.mount('/content/drive')"
      ]
    },
    {
      "cell_type": "code",
      "execution_count": 13,
      "metadata": {
        "id": "aJAto1YgWgqZ"
      },
      "outputs": [],
      "source": [
        "import pandas as pd\n",
        "\n",
        "# Carga el archivo CSV desde una ruta local o una URL\n",
        "ruta_archivo = '/content/drive/MyDrive/IMDB_top_1000.csv'\n",
        "df = pd.read_csv(ruta_archivo)"
      ]
    },
    {
      "cell_type": "code",
      "execution_count": 15,
      "metadata": {
        "colab": {
          "base_uri": "https://localhost:8080/",
          "height": 1000
        },
        "id": "224pB6j8cZEN",
        "outputId": "7584e21a-0f12-4749-fb71-f80019cb35ee"
      },
      "outputs": [
        {
          "data": {
            "application/vnd.google.colaboratory.intrinsic+json": {
              "summary": "{\n  \"name\": \"df\",\n  \"rows\": 1000,\n  \"fields\": [\n    {\n      \"column\": \"Unnamed: 0\",\n      \"properties\": {\n        \"dtype\": \"number\",\n        \"std\": 288,\n        \"min\": 0,\n        \"max\": 999,\n        \"num_unique_values\": 1000,\n        \"samples\": [\n          521,\n          737,\n          740\n        ],\n        \"semantic_type\": \"\",\n        \"description\": \"\"\n      }\n    },\n    {\n      \"column\": \"Title\",\n      \"properties\": {\n        \"dtype\": \"category\",\n        \"num_unique_values\": 398,\n        \"samples\": [\n          \"201. Wild Tales (2014)\",\n          \"399. Aladdin (1992)\",\n          \"34. Whiplash (2014)\"\n        ],\n        \"semantic_type\": \"\",\n        \"description\": \"\"\n      }\n    },\n    {\n      \"column\": \"Certificate\",\n      \"properties\": {\n        \"dtype\": \"category\",\n        \"num_unique_values\": 11,\n        \"samples\": [\n          \"G\",\n          \"R\",\n          \"TV-PG\"\n        ],\n        \"semantic_type\": \"\",\n        \"description\": \"\"\n      }\n    },\n    {\n      \"column\": \"Duration\",\n      \"properties\": {\n        \"dtype\": \"category\",\n        \"num_unique_values\": 114,\n        \"samples\": [\n          \"140 min\",\n          \"201 min\",\n          \"102 min\"\n        ],\n        \"semantic_type\": \"\",\n        \"description\": \"\"\n      }\n    },\n    {\n      \"column\": \"Genre\",\n      \"properties\": {\n        \"dtype\": \"category\",\n        \"num_unique_values\": 130,\n        \"samples\": [\n          \"Drama, Romance, Sci-Fi\",\n          \"Drama, Mystery, Thriller\",\n          \"Action, Drama, Mystery\"\n        ],\n        \"semantic_type\": \"\",\n        \"description\": \"\"\n      }\n    },\n    {\n      \"column\": \"Rate\",\n      \"properties\": {\n        \"dtype\": \"number\",\n        \"std\": 0.1695656288948392,\n        \"min\": 8.0,\n        \"max\": 9.3,\n        \"num_unique_values\": 13,\n        \"samples\": [\n          8.1,\n          8.3,\n          9.3\n        ],\n        \"semantic_type\": \"\",\n        \"description\": \"\"\n      }\n    },\n    {\n      \"column\": \"Metascore\",\n      \"properties\": {\n        \"dtype\": \"number\",\n        \"std\": 9.811801398748079,\n        \"min\": 61.0,\n        \"max\": 100.0,\n        \"num_unique_values\": 40,\n        \"samples\": [\n          89.0,\n          65.0,\n          61.0\n        ],\n        \"semantic_type\": \"\",\n        \"description\": \"\"\n      }\n    },\n    {\n      \"column\": \"Description\",\n      \"properties\": {\n        \"dtype\": \"category\",\n        \"num_unique_values\": 398,\n        \"samples\": [\n          \"Six short stories that explore the extremities of human behavior involving people in distress.\",\n          \"A kindhearted street urchin and a power-hungry Grand Vizier vie for a magic lamp that has the power to make their deepest wishes come true.\",\n          \"A promising young drummer enrolls at a cut-throat music conservatory where his dreams of greatness are mentored by an instructor who will stop at nothing to realize a student's potential.\"\n        ],\n        \"semantic_type\": \"\",\n        \"description\": \"\"\n      }\n    },\n    {\n      \"column\": \"Cast\",\n      \"properties\": {\n        \"dtype\": \"category\",\n        \"num_unique_values\": 398,\n        \"samples\": [\n          \"Director: Dami\\u00e1n Szifron | Stars: Dar\\u00edo Grandinetti, Mar\\u00eda Marull, M\\u00f3nica Villa, Diego Starosta\",\n          \"Directors: Ron Clements, John Musker | Stars: Scott Weinger, Robin Williams, Linda Larkin, Jonathan Freeman\",\n          \"Director: Damien Chazelle | Stars: Miles Teller, J.K. Simmons, Melissa Benoist, Paul Reiser\"\n        ],\n        \"semantic_type\": \"\",\n        \"description\": \"\"\n      }\n    },\n    {\n      \"column\": \"Info\",\n      \"properties\": {\n        \"dtype\": \"category\",\n        \"num_unique_values\": 398,\n        \"samples\": [\n          \"Votes: 172,434 | Gross: $3.11M\",\n          \"Votes: 367,489 | Gross: $217.35M\",\n          \"Votes: 697,753 | Gross: $13.09M\"\n        ],\n        \"semantic_type\": \"\",\n        \"description\": \"\"\n      }\n    }\n  ]\n}",
              "type": "dataframe",
              "variable_name": "df"
            },
            "text/html": [
              "\n",
              "  <div id=\"df-5b326e5e-ac7c-4958-837e-bca41e1c387c\" class=\"colab-df-container\">\n",
              "    <div>\n",
              "<style scoped>\n",
              "    .dataframe tbody tr th:only-of-type {\n",
              "        vertical-align: middle;\n",
              "    }\n",
              "\n",
              "    .dataframe tbody tr th {\n",
              "        vertical-align: top;\n",
              "    }\n",
              "\n",
              "    .dataframe thead th {\n",
              "        text-align: right;\n",
              "    }\n",
              "</style>\n",
              "<table border=\"1\" class=\"dataframe\">\n",
              "  <thead>\n",
              "    <tr style=\"text-align: right;\">\n",
              "      <th></th>\n",
              "      <th>Unnamed: 0</th>\n",
              "      <th>Title</th>\n",
              "      <th>Certificate</th>\n",
              "      <th>Duration</th>\n",
              "      <th>Genre</th>\n",
              "      <th>Rate</th>\n",
              "      <th>Metascore</th>\n",
              "      <th>Description</th>\n",
              "      <th>Cast</th>\n",
              "      <th>Info</th>\n",
              "    </tr>\n",
              "  </thead>\n",
              "  <tbody>\n",
              "    <tr>\n",
              "      <th>0</th>\n",
              "      <td>0</td>\n",
              "      <td>1. The Shawshank Redemption (1994)</td>\n",
              "      <td>R</td>\n",
              "      <td>142 min</td>\n",
              "      <td>Drama</td>\n",
              "      <td>9.3</td>\n",
              "      <td>80.0</td>\n",
              "      <td>Two imprisoned men bond over a number of years...</td>\n",
              "      <td>Director: Frank Darabont | Stars: Tim Robbins,...</td>\n",
              "      <td>Votes: 2,295,987 | Gross: $28.34M</td>\n",
              "    </tr>\n",
              "    <tr>\n",
              "      <th>1</th>\n",
              "      <td>1</td>\n",
              "      <td>2. The Godfather (1972)</td>\n",
              "      <td>R</td>\n",
              "      <td>175 min</td>\n",
              "      <td>Crime, Drama</td>\n",
              "      <td>9.2</td>\n",
              "      <td>100.0</td>\n",
              "      <td>The aging patriarch of an organized crime dyna...</td>\n",
              "      <td>Director: Francis Ford Coppola | Stars: Marlon...</td>\n",
              "      <td>Votes: 1,584,782 | Gross: $134.97M</td>\n",
              "    </tr>\n",
              "    <tr>\n",
              "      <th>2</th>\n",
              "      <td>2</td>\n",
              "      <td>3. The Dark Knight (2008)</td>\n",
              "      <td>PG-13</td>\n",
              "      <td>152 min</td>\n",
              "      <td>Action, Crime, Drama</td>\n",
              "      <td>9.0</td>\n",
              "      <td>84.0</td>\n",
              "      <td>When the menace known as the Joker wreaks havo...</td>\n",
              "      <td>Director: Christopher Nolan | Stars: Christian...</td>\n",
              "      <td>Votes: 2,260,649 | Gross: $534.86M</td>\n",
              "    </tr>\n",
              "    <tr>\n",
              "      <th>3</th>\n",
              "      <td>3</td>\n",
              "      <td>4. The Godfather: Part II (1974)</td>\n",
              "      <td>R</td>\n",
              "      <td>202 min</td>\n",
              "      <td>Crime, Drama</td>\n",
              "      <td>9.0</td>\n",
              "      <td>90.0</td>\n",
              "      <td>The early life and career of Vito Corleone in ...</td>\n",
              "      <td>Director: Francis Ford Coppola | Stars: Al Pac...</td>\n",
              "      <td>Votes: 1,107,253 | Gross: $57.30M</td>\n",
              "    </tr>\n",
              "    <tr>\n",
              "      <th>4</th>\n",
              "      <td>4</td>\n",
              "      <td>5. The Lord of the Rings: The Return of the Ki...</td>\n",
              "      <td>PG-13</td>\n",
              "      <td>201 min</td>\n",
              "      <td>Action, Adventure, Drama</td>\n",
              "      <td>8.9</td>\n",
              "      <td>94.0</td>\n",
              "      <td>Gandalf and Aragorn lead the World of Men agai...</td>\n",
              "      <td>Director: Peter Jackson | Stars: Elijah Wood, ...</td>\n",
              "      <td>Votes: 1,614,369 | Gross: $377.85M</td>\n",
              "    </tr>\n",
              "    <tr>\n",
              "      <th>...</th>\n",
              "      <td>...</td>\n",
              "      <td>...</td>\n",
              "      <td>...</td>\n",
              "      <td>...</td>\n",
              "      <td>...</td>\n",
              "      <td>...</td>\n",
              "      <td>...</td>\n",
              "      <td>...</td>\n",
              "      <td>...</td>\n",
              "      <td>...</td>\n",
              "    </tr>\n",
              "    <tr>\n",
              "      <th>995</th>\n",
              "      <td>995</td>\n",
              "      <td>398. Scent of a Woman (1992)</td>\n",
              "      <td>R</td>\n",
              "      <td>156 min</td>\n",
              "      <td>Drama</td>\n",
              "      <td>8.0</td>\n",
              "      <td>NaN</td>\n",
              "      <td>A prep school student needing money agrees to ...</td>\n",
              "      <td>Director: Martin Brest | Stars: Al Pacino, Chr...</td>\n",
              "      <td>Votes: 256,515 | Gross: $63.90M</td>\n",
              "    </tr>\n",
              "    <tr>\n",
              "      <th>996</th>\n",
              "      <td>996</td>\n",
              "      <td>399. Aladdin (1992)</td>\n",
              "      <td>G</td>\n",
              "      <td>90 min</td>\n",
              "      <td>Animation, Adventure, Comedy</td>\n",
              "      <td>8.0</td>\n",
              "      <td>86.0</td>\n",
              "      <td>A kindhearted street urchin and a power-hungry...</td>\n",
              "      <td>Directors: Ron Clements, John Musker | Stars: ...</td>\n",
              "      <td>Votes: 367,489 | Gross: $217.35M</td>\n",
              "    </tr>\n",
              "    <tr>\n",
              "      <th>997</th>\n",
              "      <td>997</td>\n",
              "      <td>400. JFK (1991)</td>\n",
              "      <td>R</td>\n",
              "      <td>189 min</td>\n",
              "      <td>Drama, History, Thriller</td>\n",
              "      <td>8.0</td>\n",
              "      <td>72.0</td>\n",
              "      <td>New Orleans District Attorney Jim Garrison dis...</td>\n",
              "      <td>Director: Oliver Stone | Stars: Kevin Costner,...</td>\n",
              "      <td>Votes: 139,634 | Gross: $70.41M</td>\n",
              "    </tr>\n",
              "    <tr>\n",
              "      <th>998</th>\n",
              "      <td>998</td>\n",
              "      <td>301. Nights of Cabiria (1957)</td>\n",
              "      <td>Not Rated</td>\n",
              "      <td>110 min</td>\n",
              "      <td>Drama</td>\n",
              "      <td>8.1</td>\n",
              "      <td>NaN</td>\n",
              "      <td>A waifish prostitute wanders the streets of Ro...</td>\n",
              "      <td>Director: Federico Fellini | Stars: Giulietta ...</td>\n",
              "      <td>Votes: 42,160 | Gross: $0.75M</td>\n",
              "    </tr>\n",
              "    <tr>\n",
              "      <th>999</th>\n",
              "      <td>999</td>\n",
              "      <td>302. Throne of Blood (1957)</td>\n",
              "      <td>Not Rated</td>\n",
              "      <td>110 min</td>\n",
              "      <td>Drama, History</td>\n",
              "      <td>8.1</td>\n",
              "      <td>NaN</td>\n",
              "      <td>A war-hardened general, egged on by his ambiti...</td>\n",
              "      <td>Director: Akira Kurosawa | Stars: Toshirô Mifu...</td>\n",
              "      <td>Votes: 45,579</td>\n",
              "    </tr>\n",
              "  </tbody>\n",
              "</table>\n",
              "<p>1000 rows × 10 columns</p>\n",
              "</div>\n",
              "    <div class=\"colab-df-buttons\">\n",
              "\n",
              "  <div class=\"colab-df-container\">\n",
              "    <button class=\"colab-df-convert\" onclick=\"convertToInteractive('df-5b326e5e-ac7c-4958-837e-bca41e1c387c')\"\n",
              "            title=\"Convert this dataframe to an interactive table.\"\n",
              "            style=\"display:none;\">\n",
              "\n",
              "  <svg xmlns=\"http://www.w3.org/2000/svg\" height=\"24px\" viewBox=\"0 -960 960 960\">\n",
              "    <path d=\"M120-120v-720h720v720H120Zm60-500h600v-160H180v160Zm220 220h160v-160H400v160Zm0 220h160v-160H400v160ZM180-400h160v-160H180v160Zm440 0h160v-160H620v160ZM180-180h160v-160H180v160Zm440 0h160v-160H620v160Z\"/>\n",
              "  </svg>\n",
              "    </button>\n",
              "\n",
              "  <style>\n",
              "    .colab-df-container {\n",
              "      display:flex;\n",
              "      gap: 12px;\n",
              "    }\n",
              "\n",
              "    .colab-df-convert {\n",
              "      background-color: #E8F0FE;\n",
              "      border: none;\n",
              "      border-radius: 50%;\n",
              "      cursor: pointer;\n",
              "      display: none;\n",
              "      fill: #1967D2;\n",
              "      height: 32px;\n",
              "      padding: 0 0 0 0;\n",
              "      width: 32px;\n",
              "    }\n",
              "\n",
              "    .colab-df-convert:hover {\n",
              "      background-color: #E2EBFA;\n",
              "      box-shadow: 0px 1px 2px rgba(60, 64, 67, 0.3), 0px 1px 3px 1px rgba(60, 64, 67, 0.15);\n",
              "      fill: #174EA6;\n",
              "    }\n",
              "\n",
              "    .colab-df-buttons div {\n",
              "      margin-bottom: 4px;\n",
              "    }\n",
              "\n",
              "    [theme=dark] .colab-df-convert {\n",
              "      background-color: #3B4455;\n",
              "      fill: #D2E3FC;\n",
              "    }\n",
              "\n",
              "    [theme=dark] .colab-df-convert:hover {\n",
              "      background-color: #434B5C;\n",
              "      box-shadow: 0px 1px 3px 1px rgba(0, 0, 0, 0.15);\n",
              "      filter: drop-shadow(0px 1px 2px rgba(0, 0, 0, 0.3));\n",
              "      fill: #FFFFFF;\n",
              "    }\n",
              "  </style>\n",
              "\n",
              "    <script>\n",
              "      const buttonEl =\n",
              "        document.querySelector('#df-5b326e5e-ac7c-4958-837e-bca41e1c387c button.colab-df-convert');\n",
              "      buttonEl.style.display =\n",
              "        google.colab.kernel.accessAllowed ? 'block' : 'none';\n",
              "\n",
              "      async function convertToInteractive(key) {\n",
              "        const element = document.querySelector('#df-5b326e5e-ac7c-4958-837e-bca41e1c387c');\n",
              "        const dataTable =\n",
              "          await google.colab.kernel.invokeFunction('convertToInteractive',\n",
              "                                                    [key], {});\n",
              "        if (!dataTable) return;\n",
              "\n",
              "        const docLinkHtml = 'Like what you see? Visit the ' +\n",
              "          '<a target=\"_blank\" href=https://colab.research.google.com/notebooks/data_table.ipynb>data table notebook</a>'\n",
              "          + ' to learn more about interactive tables.';\n",
              "        element.innerHTML = '';\n",
              "        dataTable['output_type'] = 'display_data';\n",
              "        await google.colab.output.renderOutput(dataTable, element);\n",
              "        const docLink = document.createElement('div');\n",
              "        docLink.innerHTML = docLinkHtml;\n",
              "        element.appendChild(docLink);\n",
              "      }\n",
              "    </script>\n",
              "  </div>\n",
              "\n",
              "\n",
              "<div id=\"df-5bd586f5-a0ec-409d-a4ea-dfeb992a1549\">\n",
              "  <button class=\"colab-df-quickchart\" onclick=\"quickchart('df-5bd586f5-a0ec-409d-a4ea-dfeb992a1549')\"\n",
              "            title=\"Suggest charts\"\n",
              "            style=\"display:none;\">\n",
              "\n",
              "<svg xmlns=\"http://www.w3.org/2000/svg\" height=\"24px\"viewBox=\"0 0 24 24\"\n",
              "     width=\"24px\">\n",
              "    <g>\n",
              "        <path d=\"M19 3H5c-1.1 0-2 .9-2 2v14c0 1.1.9 2 2 2h14c1.1 0 2-.9 2-2V5c0-1.1-.9-2-2-2zM9 17H7v-7h2v7zm4 0h-2V7h2v10zm4 0h-2v-4h2v4z\"/>\n",
              "    </g>\n",
              "</svg>\n",
              "  </button>\n",
              "\n",
              "<style>\n",
              "  .colab-df-quickchart {\n",
              "      --bg-color: #E8F0FE;\n",
              "      --fill-color: #1967D2;\n",
              "      --hover-bg-color: #E2EBFA;\n",
              "      --hover-fill-color: #174EA6;\n",
              "      --disabled-fill-color: #AAA;\n",
              "      --disabled-bg-color: #DDD;\n",
              "  }\n",
              "\n",
              "  [theme=dark] .colab-df-quickchart {\n",
              "      --bg-color: #3B4455;\n",
              "      --fill-color: #D2E3FC;\n",
              "      --hover-bg-color: #434B5C;\n",
              "      --hover-fill-color: #FFFFFF;\n",
              "      --disabled-bg-color: #3B4455;\n",
              "      --disabled-fill-color: #666;\n",
              "  }\n",
              "\n",
              "  .colab-df-quickchart {\n",
              "    background-color: var(--bg-color);\n",
              "    border: none;\n",
              "    border-radius: 50%;\n",
              "    cursor: pointer;\n",
              "    display: none;\n",
              "    fill: var(--fill-color);\n",
              "    height: 32px;\n",
              "    padding: 0;\n",
              "    width: 32px;\n",
              "  }\n",
              "\n",
              "  .colab-df-quickchart:hover {\n",
              "    background-color: var(--hover-bg-color);\n",
              "    box-shadow: 0 1px 2px rgba(60, 64, 67, 0.3), 0 1px 3px 1px rgba(60, 64, 67, 0.15);\n",
              "    fill: var(--button-hover-fill-color);\n",
              "  }\n",
              "\n",
              "  .colab-df-quickchart-complete:disabled,\n",
              "  .colab-df-quickchart-complete:disabled:hover {\n",
              "    background-color: var(--disabled-bg-color);\n",
              "    fill: var(--disabled-fill-color);\n",
              "    box-shadow: none;\n",
              "  }\n",
              "\n",
              "  .colab-df-spinner {\n",
              "    border: 2px solid var(--fill-color);\n",
              "    border-color: transparent;\n",
              "    border-bottom-color: var(--fill-color);\n",
              "    animation:\n",
              "      spin 1s steps(1) infinite;\n",
              "  }\n",
              "\n",
              "  @keyframes spin {\n",
              "    0% {\n",
              "      border-color: transparent;\n",
              "      border-bottom-color: var(--fill-color);\n",
              "      border-left-color: var(--fill-color);\n",
              "    }\n",
              "    20% {\n",
              "      border-color: transparent;\n",
              "      border-left-color: var(--fill-color);\n",
              "      border-top-color: var(--fill-color);\n",
              "    }\n",
              "    30% {\n",
              "      border-color: transparent;\n",
              "      border-left-color: var(--fill-color);\n",
              "      border-top-color: var(--fill-color);\n",
              "      border-right-color: var(--fill-color);\n",
              "    }\n",
              "    40% {\n",
              "      border-color: transparent;\n",
              "      border-right-color: var(--fill-color);\n",
              "      border-top-color: var(--fill-color);\n",
              "    }\n",
              "    60% {\n",
              "      border-color: transparent;\n",
              "      border-right-color: var(--fill-color);\n",
              "    }\n",
              "    80% {\n",
              "      border-color: transparent;\n",
              "      border-right-color: var(--fill-color);\n",
              "      border-bottom-color: var(--fill-color);\n",
              "    }\n",
              "    90% {\n",
              "      border-color: transparent;\n",
              "      border-bottom-color: var(--fill-color);\n",
              "    }\n",
              "  }\n",
              "</style>\n",
              "\n",
              "  <script>\n",
              "    async function quickchart(key) {\n",
              "      const quickchartButtonEl =\n",
              "        document.querySelector('#' + key + ' button');\n",
              "      quickchartButtonEl.disabled = true;  // To prevent multiple clicks.\n",
              "      quickchartButtonEl.classList.add('colab-df-spinner');\n",
              "      try {\n",
              "        const charts = await google.colab.kernel.invokeFunction(\n",
              "            'suggestCharts', [key], {});\n",
              "      } catch (error) {\n",
              "        console.error('Error during call to suggestCharts:', error);\n",
              "      }\n",
              "      quickchartButtonEl.classList.remove('colab-df-spinner');\n",
              "      quickchartButtonEl.classList.add('colab-df-quickchart-complete');\n",
              "    }\n",
              "    (() => {\n",
              "      let quickchartButtonEl =\n",
              "        document.querySelector('#df-5bd586f5-a0ec-409d-a4ea-dfeb992a1549 button');\n",
              "      quickchartButtonEl.style.display =\n",
              "        google.colab.kernel.accessAllowed ? 'block' : 'none';\n",
              "    })();\n",
              "  </script>\n",
              "</div>\n",
              "\n",
              "  <div id=\"id_44dbadc5-909b-4abb-a97b-1f1e5279a4cb\">\n",
              "    <style>\n",
              "      .colab-df-generate {\n",
              "        background-color: #E8F0FE;\n",
              "        border: none;\n",
              "        border-radius: 50%;\n",
              "        cursor: pointer;\n",
              "        display: none;\n",
              "        fill: #1967D2;\n",
              "        height: 32px;\n",
              "        padding: 0 0 0 0;\n",
              "        width: 32px;\n",
              "      }\n",
              "\n",
              "      .colab-df-generate:hover {\n",
              "        background-color: #E2EBFA;\n",
              "        box-shadow: 0px 1px 2px rgba(60, 64, 67, 0.3), 0px 1px 3px 1px rgba(60, 64, 67, 0.15);\n",
              "        fill: #174EA6;\n",
              "      }\n",
              "\n",
              "      [theme=dark] .colab-df-generate {\n",
              "        background-color: #3B4455;\n",
              "        fill: #D2E3FC;\n",
              "      }\n",
              "\n",
              "      [theme=dark] .colab-df-generate:hover {\n",
              "        background-color: #434B5C;\n",
              "        box-shadow: 0px 1px 3px 1px rgba(0, 0, 0, 0.15);\n",
              "        filter: drop-shadow(0px 1px 2px rgba(0, 0, 0, 0.3));\n",
              "        fill: #FFFFFF;\n",
              "      }\n",
              "    </style>\n",
              "    <button class=\"colab-df-generate\" onclick=\"generateWithVariable('df')\"\n",
              "            title=\"Generate code using this dataframe.\"\n",
              "            style=\"display:none;\">\n",
              "\n",
              "  <svg xmlns=\"http://www.w3.org/2000/svg\" height=\"24px\"viewBox=\"0 0 24 24\"\n",
              "       width=\"24px\">\n",
              "    <path d=\"M7,19H8.4L18.45,9,17,7.55,7,17.6ZM5,21V16.75L18.45,3.32a2,2,0,0,1,2.83,0l1.4,1.43a1.91,1.91,0,0,1,.58,1.4,1.91,1.91,0,0,1-.58,1.4L9.25,21ZM18.45,9,17,7.55Zm-12,3A5.31,5.31,0,0,0,4.9,8.1,5.31,5.31,0,0,0,1,6.5,5.31,5.31,0,0,0,4.9,4.9,5.31,5.31,0,0,0,6.5,1,5.31,5.31,0,0,0,8.1,4.9,5.31,5.31,0,0,0,12,6.5,5.46,5.46,0,0,0,6.5,12Z\"/>\n",
              "  </svg>\n",
              "    </button>\n",
              "    <script>\n",
              "      (() => {\n",
              "      const buttonEl =\n",
              "        document.querySelector('#id_44dbadc5-909b-4abb-a97b-1f1e5279a4cb button.colab-df-generate');\n",
              "      buttonEl.style.display =\n",
              "        google.colab.kernel.accessAllowed ? 'block' : 'none';\n",
              "\n",
              "      buttonEl.onclick = () => {\n",
              "        google.colab.notebook.generateWithVariable('df');\n",
              "      }\n",
              "      })();\n",
              "    </script>\n",
              "  </div>\n",
              "\n",
              "    </div>\n",
              "  </div>\n"
            ],
            "text/plain": [
              "     Unnamed: 0                                              Title  \\\n",
              "0             0                 1. The Shawshank Redemption (1994)   \n",
              "1             1                            2. The Godfather (1972)   \n",
              "2             2                          3. The Dark Knight (2008)   \n",
              "3             3                   4. The Godfather: Part II (1974)   \n",
              "4             4  5. The Lord of the Rings: The Return of the Ki...   \n",
              "..          ...                                                ...   \n",
              "995         995                       398. Scent of a Woman (1992)   \n",
              "996         996                                399. Aladdin (1992)   \n",
              "997         997                                    400. JFK (1991)   \n",
              "998         998                      301. Nights of Cabiria (1957)   \n",
              "999         999                        302. Throne of Blood (1957)   \n",
              "\n",
              "    Certificate Duration                         Genre  Rate  Metascore  \\\n",
              "0             R  142 min                         Drama   9.3       80.0   \n",
              "1             R  175 min                  Crime, Drama   9.2      100.0   \n",
              "2         PG-13  152 min          Action, Crime, Drama   9.0       84.0   \n",
              "3             R  202 min                  Crime, Drama   9.0       90.0   \n",
              "4         PG-13  201 min      Action, Adventure, Drama   8.9       94.0   \n",
              "..          ...      ...                           ...   ...        ...   \n",
              "995           R  156 min                         Drama   8.0        NaN   \n",
              "996           G   90 min  Animation, Adventure, Comedy   8.0       86.0   \n",
              "997           R  189 min      Drama, History, Thriller   8.0       72.0   \n",
              "998   Not Rated  110 min                         Drama   8.1        NaN   \n",
              "999   Not Rated  110 min                Drama, History   8.1        NaN   \n",
              "\n",
              "                                           Description  \\\n",
              "0    Two imprisoned men bond over a number of years...   \n",
              "1    The aging patriarch of an organized crime dyna...   \n",
              "2    When the menace known as the Joker wreaks havo...   \n",
              "3    The early life and career of Vito Corleone in ...   \n",
              "4    Gandalf and Aragorn lead the World of Men agai...   \n",
              "..                                                 ...   \n",
              "995  A prep school student needing money agrees to ...   \n",
              "996  A kindhearted street urchin and a power-hungry...   \n",
              "997  New Orleans District Attorney Jim Garrison dis...   \n",
              "998  A waifish prostitute wanders the streets of Ro...   \n",
              "999  A war-hardened general, egged on by his ambiti...   \n",
              "\n",
              "                                                  Cast  \\\n",
              "0    Director: Frank Darabont | Stars: Tim Robbins,...   \n",
              "1    Director: Francis Ford Coppola | Stars: Marlon...   \n",
              "2    Director: Christopher Nolan | Stars: Christian...   \n",
              "3    Director: Francis Ford Coppola | Stars: Al Pac...   \n",
              "4    Director: Peter Jackson | Stars: Elijah Wood, ...   \n",
              "..                                                 ...   \n",
              "995  Director: Martin Brest | Stars: Al Pacino, Chr...   \n",
              "996  Directors: Ron Clements, John Musker | Stars: ...   \n",
              "997  Director: Oliver Stone | Stars: Kevin Costner,...   \n",
              "998  Director: Federico Fellini | Stars: Giulietta ...   \n",
              "999  Director: Akira Kurosawa | Stars: Toshirô Mifu...   \n",
              "\n",
              "                                   Info  \n",
              "0     Votes: 2,295,987 | Gross: $28.34M  \n",
              "1    Votes: 1,584,782 | Gross: $134.97M  \n",
              "2    Votes: 2,260,649 | Gross: $534.86M  \n",
              "3     Votes: 1,107,253 | Gross: $57.30M  \n",
              "4    Votes: 1,614,369 | Gross: $377.85M  \n",
              "..                                  ...  \n",
              "995     Votes: 256,515 | Gross: $63.90M  \n",
              "996    Votes: 367,489 | Gross: $217.35M  \n",
              "997     Votes: 139,634 | Gross: $70.41M  \n",
              "998       Votes: 42,160 | Gross: $0.75M  \n",
              "999                       Votes: 45,579  \n",
              "\n",
              "[1000 rows x 10 columns]"
            ]
          },
          "execution_count": 15,
          "metadata": {},
          "output_type": "execute_result"
        }
      ],
      "source": [
        "# Mostrar los registros\n",
        "df"
      ]
    },
    {
      "cell_type": "code",
      "execution_count": 16,
      "metadata": {
        "colab": {
          "base_uri": "https://localhost:8080/"
        },
        "id": "UATd7LD2QD1c",
        "outputId": "7c58b952-1a15-472d-9ae1-a3519b75cfe1"
      },
      "outputs": [
        {
          "name": "stdout",
          "output_type": "stream",
          "text": [
            "   Unnamed: 0                                              Title Certificate  \\\n",
            "0           0                 1. The Shawshank Redemption (1994)           R   \n",
            "1           1                            2. The Godfather (1972)           R   \n",
            "2           2                          3. The Dark Knight (2008)       PG-13   \n",
            "3           3                   4. The Godfather: Part II (1974)           R   \n",
            "4           4  5. The Lord of the Rings: The Return of the Ki...       PG-13   \n",
            "\n",
            "  Duration                     Genre  Rate  Metascore  \\\n",
            "0  142 min                     Drama   9.3       80.0   \n",
            "1  175 min              Crime, Drama   9.2      100.0   \n",
            "2  152 min      Action, Crime, Drama   9.0       84.0   \n",
            "3  202 min              Crime, Drama   9.0       90.0   \n",
            "4  201 min  Action, Adventure, Drama   8.9       94.0   \n",
            "\n",
            "                                         Description  \\\n",
            "0  Two imprisoned men bond over a number of years...   \n",
            "1  The aging patriarch of an organized crime dyna...   \n",
            "2  When the menace known as the Joker wreaks havo...   \n",
            "3  The early life and career of Vito Corleone in ...   \n",
            "4  Gandalf and Aragorn lead the World of Men agai...   \n",
            "\n",
            "                                                Cast  \\\n",
            "0  Director: Frank Darabont | Stars: Tim Robbins,...   \n",
            "1  Director: Francis Ford Coppola | Stars: Marlon...   \n",
            "2  Director: Christopher Nolan | Stars: Christian...   \n",
            "3  Director: Francis Ford Coppola | Stars: Al Pac...   \n",
            "4  Director: Peter Jackson | Stars: Elijah Wood, ...   \n",
            "\n",
            "                                 Info  \n",
            "0   Votes: 2,295,987 | Gross: $28.34M  \n",
            "1  Votes: 1,584,782 | Gross: $134.97M  \n",
            "2  Votes: 2,260,649 | Gross: $534.86M  \n",
            "3   Votes: 1,107,253 | Gross: $57.30M  \n",
            "4  Votes: 1,614,369 | Gross: $377.85M  \n"
          ]
        }
      ],
      "source": [
        "# TODO: mostrar los primeros 5 registros de dataframe\n",
        "#print(df.head(5))"
      ]
    },
    {
      "cell_type": "markdown",
      "metadata": {
        "id": "kSTsiSjHQD1c"
      },
      "source": [
        "## Usando Sentence Transformer para crear embeddings"
      ]
    },
    {
      "cell_type": "code",
      "execution_count": 23,
      "metadata": {
        "colab": {
          "base_uri": "https://localhost:8080/"
        },
        "id": "1GZ8KaBWQD1c",
        "outputId": "08fbd3a9-8440-4205-82fb-f0713cd05d26"
      },
      "outputs": [
        {
          "name": "stdout",
          "output_type": "stream",
          "text": [
            "Requirement already satisfied: sentence-transformers in /usr/local/lib/python3.10/dist-packages (3.1.1)\n",
            "Requirement already satisfied: transformers<5.0.0,>=4.38.0 in /usr/local/lib/python3.10/dist-packages (from sentence-transformers) (4.44.2)\n",
            "Requirement already satisfied: tqdm in /usr/local/lib/python3.10/dist-packages (from sentence-transformers) (4.66.5)\n",
            "Requirement already satisfied: torch>=1.11.0 in /usr/local/lib/python3.10/dist-packages (from sentence-transformers) (2.4.1+cu121)\n",
            "Requirement already satisfied: scikit-learn in /usr/local/lib/python3.10/dist-packages (from sentence-transformers) (1.5.2)\n",
            "Requirement already satisfied: scipy in /usr/local/lib/python3.10/dist-packages (from sentence-transformers) (1.13.1)\n",
            "Requirement already satisfied: huggingface-hub>=0.19.3 in /usr/local/lib/python3.10/dist-packages (from sentence-transformers) (0.24.7)\n",
            "Requirement already satisfied: Pillow in /usr/local/lib/python3.10/dist-packages (from sentence-transformers) (10.4.0)\n",
            "Requirement already satisfied: filelock in /usr/local/lib/python3.10/dist-packages (from huggingface-hub>=0.19.3->sentence-transformers) (3.16.1)\n",
            "Requirement already satisfied: fsspec>=2023.5.0 in /usr/local/lib/python3.10/dist-packages (from huggingface-hub>=0.19.3->sentence-transformers) (2024.6.1)\n",
            "Requirement already satisfied: packaging>=20.9 in /usr/local/lib/python3.10/dist-packages (from huggingface-hub>=0.19.3->sentence-transformers) (24.1)\n",
            "Requirement already satisfied: pyyaml>=5.1 in /usr/local/lib/python3.10/dist-packages (from huggingface-hub>=0.19.3->sentence-transformers) (6.0.2)\n",
            "Requirement already satisfied: requests in /usr/local/lib/python3.10/dist-packages (from huggingface-hub>=0.19.3->sentence-transformers) (2.32.3)\n",
            "Requirement already satisfied: typing-extensions>=3.7.4.3 in /usr/local/lib/python3.10/dist-packages (from huggingface-hub>=0.19.3->sentence-transformers) (4.12.2)\n",
            "Requirement already satisfied: sympy in /usr/local/lib/python3.10/dist-packages (from torch>=1.11.0->sentence-transformers) (1.13.3)\n",
            "Requirement already satisfied: networkx in /usr/local/lib/python3.10/dist-packages (from torch>=1.11.0->sentence-transformers) (3.3)\n",
            "Requirement already satisfied: jinja2 in /usr/local/lib/python3.10/dist-packages (from torch>=1.11.0->sentence-transformers) (3.1.4)\n",
            "Requirement already satisfied: numpy>=1.17 in /usr/local/lib/python3.10/dist-packages (from transformers<5.0.0,>=4.38.0->sentence-transformers) (1.26.4)\n",
            "Requirement already satisfied: regex!=2019.12.17 in /usr/local/lib/python3.10/dist-packages (from transformers<5.0.0,>=4.38.0->sentence-transformers) (2024.9.11)\n",
            "Requirement already satisfied: safetensors>=0.4.1 in /usr/local/lib/python3.10/dist-packages (from transformers<5.0.0,>=4.38.0->sentence-transformers) (0.4.5)\n",
            "Requirement already satisfied: tokenizers<0.20,>=0.19 in /usr/local/lib/python3.10/dist-packages (from transformers<5.0.0,>=4.38.0->sentence-transformers) (0.19.1)\n",
            "Requirement already satisfied: joblib>=1.2.0 in /usr/local/lib/python3.10/dist-packages (from scikit-learn->sentence-transformers) (1.4.2)\n",
            "Requirement already satisfied: threadpoolctl>=3.1.0 in /usr/local/lib/python3.10/dist-packages (from scikit-learn->sentence-transformers) (3.5.0)\n",
            "Requirement already satisfied: MarkupSafe>=2.0 in /usr/local/lib/python3.10/dist-packages (from jinja2->torch>=1.11.0->sentence-transformers) (2.1.5)\n",
            "Requirement already satisfied: charset-normalizer<4,>=2 in /usr/local/lib/python3.10/dist-packages (from requests->huggingface-hub>=0.19.3->sentence-transformers) (3.3.2)\n",
            "Requirement already satisfied: idna<4,>=2.5 in /usr/local/lib/python3.10/dist-packages (from requests->huggingface-hub>=0.19.3->sentence-transformers) (3.10)\n",
            "Requirement already satisfied: urllib3<3,>=1.21.1 in /usr/local/lib/python3.10/dist-packages (from requests->huggingface-hub>=0.19.3->sentence-transformers) (2.2.3)\n",
            "Requirement already satisfied: certifi>=2017.4.17 in /usr/local/lib/python3.10/dist-packages (from requests->huggingface-hub>=0.19.3->sentence-transformers) (2024.8.30)\n",
            "Requirement already satisfied: mpmath<1.4,>=1.1.0 in /usr/local/lib/python3.10/dist-packages (from sympy->torch>=1.11.0->sentence-transformers) (1.3.0)\n"
          ]
        }
      ],
      "source": [
        "#Realizamos instalación de librerias de sentencetransformer\n",
        "!pip install sentence-transformers\n",
        "from sentence_transformers import SentenceTransformer # Importamos la clase SentenceTransformer\n",
        "model = SentenceTransformer('sentence-transformers/all-MiniLM-L6-v2')"
      ]
    },
    {
      "cell_type": "code",
      "execution_count": 25,
      "metadata": {
        "colab": {
          "base_uri": "https://localhost:8080/",
          "height": 49,
          "referenced_widgets": [
            "c57f68e62ccd4018b637c98ab02fddc4",
            "79fdd0a0601c442aa8a1d660f447b8a5",
            "4acb9bf3791041368af4c7d44df9b9f7",
            "fb9809d402e641bb9783ee476e247e9b",
            "5956fa36631f4f39a98592caf058fbe3",
            "b8ecfc9e50544ee193bde6dd209f6c81",
            "6b8443d3a11c48c9940e542e580c0e34",
            "17abd788102a4f60aba996f1659d0848",
            "5034e9b28a704b1ba9e256ee127b23b6",
            "60d4fc66b6674d2ab96e554be35e535d",
            "a43b2477a3af4ea5b165648dcfac350d"
          ]
        },
        "id": "tiFMXEP7QD1c",
        "outputId": "47617bc0-539d-43e4-c868-8b413267826c"
      },
      "outputs": [
        {
          "data": {
            "application/vnd.jupyter.widget-view+json": {
              "model_id": "c57f68e62ccd4018b637c98ab02fddc4",
              "version_major": 2,
              "version_minor": 0
            },
            "text/plain": [
              "Batches:   0%|          | 0/16 [00:00<?, ?it/s]"
            ]
          },
          "metadata": {},
          "output_type": "display_data"
        }
      ],
      "source": [
        "embeddings = model.encode(df['Certificate'],batch_size=64,show_progress_bar=True)"
      ]
    },
    {
      "cell_type": "code",
      "execution_count": 26,
      "metadata": {
        "id": "77rHNmm4QD1c"
      },
      "outputs": [],
      "source": [
        "df['embeddings'] = embeddings.tolist()"
      ]
    },
    {
      "cell_type": "code",
      "execution_count": 27,
      "metadata": {
        "colab": {
          "base_uri": "https://localhost:8080/"
        },
        "id": "e_zWH10dgLaB",
        "outputId": "a507c41d-37ad-4e24-c48c-fdcdb98a8610"
      },
      "outputs": [
        {
          "name": "stderr",
          "output_type": "stream",
          "text": [
            "/usr/local/lib/python3.10/dist-packages/transformers/tokenization_utils_base.py:1601: FutureWarning: `clean_up_tokenization_spaces` was not set. It will be set to `True` by default. This behavior will be depracted in transformers v4.45, and will be then set to `False` by default. For more details check this issue: https://github.com/huggingface/transformers/issues/31884\n",
            "  warnings.warn(\n"
          ]
        },
        {
          "name": "stdout",
          "output_type": "stream",
          "text": [
            "Ingrese el nombre de la columna que contiene los datos de texto: Duration\n",
            "Using column 'Duration' for text data.\n"
          ]
        }
      ],
      "source": [
        "# Realizamos importacion del modelo\n",
        "from sentence_transformers import SentenceTransformer\n",
        "\n",
        "# Cargamos el modelo preentrenado\n",
        "model = SentenceTransformer('sentence-transformers/all-MiniLM-L6-v2')\n",
        "\n",
        "# Comprobamos la existencia de la columna 'texto' existe en el marco de dato es\n",
        "if 'text' not in df.columns:\n",
        "    text_column = input(\"Ingrese el nombre de la columna que contiene los datos de texto: \")\n",
        "    print(f\"Using column '{text_column}' for text data.\")\n",
        "else:\n",
        "    text_column = 'text'\n",
        "\n",
        "# Nos aseguramos de que los datos en la columna de texto sean de tipo cadenaype\n",
        "df[text_column] = df[text_column].astype(str)  # Convertimos la columna al tipo de cadena\n",
        "\n",
        "# Generamos embeddings\n",
        "embeddings = model.encode(df[text_column].tolist())\n",
        "\n",
        "# Añadimos embeddings al dataframe\n",
        "df['embeddings'] = embeddings.tolist()"
      ]
    },
    {
      "cell_type": "markdown",
      "metadata": {
        "id": "LOud3_1tQD1d"
      },
      "source": [
        "## Calculando la similitud usando la métrica de similitud por coseno"
      ]
    },
    {
      "cell_type": "code",
      "execution_count": 28,
      "metadata": {
        "id": "ExfLxSXaQD1d"
      },
      "outputs": [],
      "source": [
        "def compute_similarity(example, query_embedding):\n",
        "    embedding = example['embeddings']\n",
        "    similarity = util.cos_sim(embedding, query_embedding).item()\n",
        "    return similarity\n"
      ]
    },
    {
      "cell_type": "code",
      "execution_count": 29,
      "metadata": {
        "colab": {
          "base_uri": "https://localhost:8080/"
        },
        "id": "TF_yAfBDhodM",
        "outputId": "84a57857-41e4-4c3c-8ca6-f7f5a8985673"
      },
      "outputs": [
        {
          "name": "stderr",
          "output_type": "stream",
          "text": [
            "/usr/local/lib/python3.10/dist-packages/transformers/tokenization_utils_base.py:1601: FutureWarning: `clean_up_tokenization_spaces` was not set. It will be set to `True` by default. This behavior will be depracted in transformers v4.45, and will be then set to `False` by default. For more details check this issue: https://github.com/huggingface/transformers/issues/31884\n",
            "  warnings.warn(\n"
          ]
        }
      ],
      "source": [
        "# Importamos el modelo util\n",
        "from sentence_transformers import SentenceTransformer, util\n",
        "\n",
        "model = SentenceTransformer('sentence-transformers/all-MiniLM-L6-v2')\n",
        "\n",
        "def compute_similarity(example, query_embedding):\n",
        "    embedding = example['embeddings']\n",
        "    similarity = util.cos_sim(embedding, query_embedding).item() # Ahora util esta definido\n",
        "    return similarity\n"
      ]
    },
    {
      "cell_type": "code",
      "execution_count": 31,
      "metadata": {
        "id": "uCjo-Dsvh6O6"
      },
      "outputs": [],
      "source": [
        "import pandas as pd\n",
        "\n",
        "def principal(consulta):\n",
        "  df = pd.read_csv('/content/drive/MyDrive/IMDB_top_1000.csv')\n",
        "  print(df.head())\n",
        "  return df"
      ]
    },
    {
      "cell_type": "code",
      "execution_count": 32,
      "metadata": {
        "colab": {
          "base_uri": "https://localhost:8080/"
        },
        "id": "Ghz9ZiOViEIV",
        "outputId": "08b4a435-8e30-42d4-88cb-50f7ef2e7efc"
      },
      "outputs": [
        {
          "name": "stdout",
          "output_type": "stream",
          "text": [
            "Index(['Unnamed: 0', 'Title', 'Certificate', 'Duration', 'Genre', 'Rate',\n",
            "       'Metascore', 'Description', 'Cast', 'Info', 'embeddings'],\n",
            "      dtype='object')\n"
          ]
        }
      ],
      "source": [
        "print(df.columns)"
      ]
    },
    {
      "cell_type": "code",
      "execution_count": 33,
      "metadata": {
        "id": "duw8IIFsiGw9"
      },
      "outputs": [],
      "source": [
        "df_clasificado = df.sort_values(by='Info', ascending=False)"
      ]
    },
    {
      "cell_type": "code",
      "execution_count": 34,
      "metadata": {
        "colab": {
          "base_uri": "https://localhost:8080/"
        },
        "id": "eB_D5wi0iI9k",
        "outputId": "6cd465ce-a727-4617-aef5-225348cc9652"
      },
      "outputs": [
        {
          "name": "stdout",
          "output_type": "stream",
          "text": [
            "     Unnamed: 0                                  Title Certificate Duration  \\\n",
            "16           16                  17. Goodfellas (1990)           R  146 min   \n",
            "237         237          240. Kill Bill: Vol. 1 (2003)           R  111 min   \n",
            "65           65                      66. WALL·E (2008)           G   98 min   \n",
            "43           43  44. Terminator 2: Judgment Day (1991)           R  137 min   \n",
            "189         189              190. The Gold Rush (1925)      Passed   95 min   \n",
            "\n",
            "                            Genre  Rate  Metascore  \\\n",
            "16        Biography, Crime, Drama   8.7       90.0   \n",
            "237       Action, Crime, Thriller   8.1       69.0   \n",
            "65   Animation, Adventure, Family   8.4       95.0   \n",
            "43                 Action, Sci-Fi   8.5       75.0   \n",
            "189      Adventure, Comedy, Drama   8.2        NaN   \n",
            "\n",
            "                                           Description  \\\n",
            "16   The story of Henry Hill and his life in the mo...   \n",
            "237  After awakening from a four-year coma, a forme...   \n",
            "65   In the distant future, a small waste-collectin...   \n",
            "43   A cyborg, identical to the one who failed to k...   \n",
            "189  A prospector goes to the Klondike in search of...   \n",
            "\n",
            "                                                  Cast  \\\n",
            "16   Director: Martin Scorsese | Stars: Robert De N...   \n",
            "237  Director: Quentin Tarantino | Stars: Uma Thurm...   \n",
            "65   Director: Andrew Stanton | Stars: Ben Burtt, E...   \n",
            "43   Director: James Cameron | Stars: Arnold Schwar...   \n",
            "189  Director: Charles Chaplin | Stars: Charles Cha...   \n",
            "\n",
            "                                 Info  \\\n",
            "16    Votes: 999,623 | Gross: $46.84M   \n",
            "237   Votes: 983,871 | Gross: $70.10M   \n",
            "65   Votes: 981,245 | Gross: $223.81M   \n",
            "43   Votes: 980,974 | Gross: $204.84M   \n",
            "189     Votes: 98,647 | Gross: $5.45M   \n",
            "\n",
            "                                            embeddings  \n",
            "16   [0.03841786086559296, 0.031349483877420425, -0...  \n",
            "237  [-0.029897183179855347, 0.05326911062002182, -...  \n",
            "65   [-0.007991881109774113, 0.05330031365156174, -...  \n",
            "43   [0.01654694229364395, 0.04485422000288963, -0....  \n",
            "189  [-0.004191410727798939, 0.010348056443035603, ...  \n"
          ]
        }
      ],
      "source": [
        "print(df_clasificado.head())"
      ]
    },
    {
      "cell_type": "markdown",
      "metadata": {
        "id": "g6-loFBDQD1d"
      },
      "source": [
        "## Ejecuntando la búsqueda"
      ]
    },
    {
      "cell_type": "code",
      "execution_count": null,
      "metadata": {
        "id": "ivw0yjGCQD1d"
      },
      "outputs": [],
      "source": [
        "query_embedding = model.encode(['a travel time adventure'])[0]\n",
        "df['similarity'] = df.apply(lambda x: compute_similarity(x, query_embedding), axis=1)\n",
        "df = df.sort_values(by='similarity', ascending=False)\n",
        "\n",
        "df.head()['Title']"
      ]
    }
  ],
  "metadata": {
    "colab": {
      "provenance": []
    },
    "kernelspec": {
      "display_name": ".venv",
      "language": "python",
      "name": "python3"
    },
    "language_info": {
      "codemirror_mode": {
        "name": "ipython",
        "version": 3
      },
      "file_extension": ".py",
      "mimetype": "text/x-python",
      "name": "python",
      "nbconvert_exporter": "python",
      "pygments_lexer": "ipython3",
      "version": "3.11.8"
    },
    "widgets": {
      "application/vnd.jupyter.widget-state+json": {
        "17abd788102a4f60aba996f1659d0848": {
          "model_module": "@jupyter-widgets/base",
          "model_module_version": "1.2.0",
          "model_name": "LayoutModel",
          "state": {
            "_model_module": "@jupyter-widgets/base",
            "_model_module_version": "1.2.0",
            "_model_name": "LayoutModel",
            "_view_count": null,
            "_view_module": "@jupyter-widgets/base",
            "_view_module_version": "1.2.0",
            "_view_name": "LayoutView",
            "align_content": null,
            "align_items": null,
            "align_self": null,
            "border": null,
            "bottom": null,
            "display": null,
            "flex": null,
            "flex_flow": null,
            "grid_area": null,
            "grid_auto_columns": null,
            "grid_auto_flow": null,
            "grid_auto_rows": null,
            "grid_column": null,
            "grid_gap": null,
            "grid_row": null,
            "grid_template_areas": null,
            "grid_template_columns": null,
            "grid_template_rows": null,
            "height": null,
            "justify_content": null,
            "justify_items": null,
            "left": null,
            "margin": null,
            "max_height": null,
            "max_width": null,
            "min_height": null,
            "min_width": null,
            "object_fit": null,
            "object_position": null,
            "order": null,
            "overflow": null,
            "overflow_x": null,
            "overflow_y": null,
            "padding": null,
            "right": null,
            "top": null,
            "visibility": null,
            "width": null
          }
        },
        "4acb9bf3791041368af4c7d44df9b9f7": {
          "model_module": "@jupyter-widgets/controls",
          "model_module_version": "1.5.0",
          "model_name": "FloatProgressModel",
          "state": {
            "_dom_classes": [],
            "_model_module": "@jupyter-widgets/controls",
            "_model_module_version": "1.5.0",
            "_model_name": "FloatProgressModel",
            "_view_count": null,
            "_view_module": "@jupyter-widgets/controls",
            "_view_module_version": "1.5.0",
            "_view_name": "ProgressView",
            "bar_style": "success",
            "description": "",
            "description_tooltip": null,
            "layout": "IPY_MODEL_17abd788102a4f60aba996f1659d0848",
            "max": 16,
            "min": 0,
            "orientation": "horizontal",
            "style": "IPY_MODEL_5034e9b28a704b1ba9e256ee127b23b6",
            "value": 16
          }
        },
        "5034e9b28a704b1ba9e256ee127b23b6": {
          "model_module": "@jupyter-widgets/controls",
          "model_module_version": "1.5.0",
          "model_name": "ProgressStyleModel",
          "state": {
            "_model_module": "@jupyter-widgets/controls",
            "_model_module_version": "1.5.0",
            "_model_name": "ProgressStyleModel",
            "_view_count": null,
            "_view_module": "@jupyter-widgets/base",
            "_view_module_version": "1.2.0",
            "_view_name": "StyleView",
            "bar_color": null,
            "description_width": ""
          }
        },
        "5956fa36631f4f39a98592caf058fbe3": {
          "model_module": "@jupyter-widgets/base",
          "model_module_version": "1.2.0",
          "model_name": "LayoutModel",
          "state": {
            "_model_module": "@jupyter-widgets/base",
            "_model_module_version": "1.2.0",
            "_model_name": "LayoutModel",
            "_view_count": null,
            "_view_module": "@jupyter-widgets/base",
            "_view_module_version": "1.2.0",
            "_view_name": "LayoutView",
            "align_content": null,
            "align_items": null,
            "align_self": null,
            "border": null,
            "bottom": null,
            "display": null,
            "flex": null,
            "flex_flow": null,
            "grid_area": null,
            "grid_auto_columns": null,
            "grid_auto_flow": null,
            "grid_auto_rows": null,
            "grid_column": null,
            "grid_gap": null,
            "grid_row": null,
            "grid_template_areas": null,
            "grid_template_columns": null,
            "grid_template_rows": null,
            "height": null,
            "justify_content": null,
            "justify_items": null,
            "left": null,
            "margin": null,
            "max_height": null,
            "max_width": null,
            "min_height": null,
            "min_width": null,
            "object_fit": null,
            "object_position": null,
            "order": null,
            "overflow": null,
            "overflow_x": null,
            "overflow_y": null,
            "padding": null,
            "right": null,
            "top": null,
            "visibility": null,
            "width": null
          }
        },
        "60d4fc66b6674d2ab96e554be35e535d": {
          "model_module": "@jupyter-widgets/base",
          "model_module_version": "1.2.0",
          "model_name": "LayoutModel",
          "state": {
            "_model_module": "@jupyter-widgets/base",
            "_model_module_version": "1.2.0",
            "_model_name": "LayoutModel",
            "_view_count": null,
            "_view_module": "@jupyter-widgets/base",
            "_view_module_version": "1.2.0",
            "_view_name": "LayoutView",
            "align_content": null,
            "align_items": null,
            "align_self": null,
            "border": null,
            "bottom": null,
            "display": null,
            "flex": null,
            "flex_flow": null,
            "grid_area": null,
            "grid_auto_columns": null,
            "grid_auto_flow": null,
            "grid_auto_rows": null,
            "grid_column": null,
            "grid_gap": null,
            "grid_row": null,
            "grid_template_areas": null,
            "grid_template_columns": null,
            "grid_template_rows": null,
            "height": null,
            "justify_content": null,
            "justify_items": null,
            "left": null,
            "margin": null,
            "max_height": null,
            "max_width": null,
            "min_height": null,
            "min_width": null,
            "object_fit": null,
            "object_position": null,
            "order": null,
            "overflow": null,
            "overflow_x": null,
            "overflow_y": null,
            "padding": null,
            "right": null,
            "top": null,
            "visibility": null,
            "width": null
          }
        },
        "6b8443d3a11c48c9940e542e580c0e34": {
          "model_module": "@jupyter-widgets/controls",
          "model_module_version": "1.5.0",
          "model_name": "DescriptionStyleModel",
          "state": {
            "_model_module": "@jupyter-widgets/controls",
            "_model_module_version": "1.5.0",
            "_model_name": "DescriptionStyleModel",
            "_view_count": null,
            "_view_module": "@jupyter-widgets/base",
            "_view_module_version": "1.2.0",
            "_view_name": "StyleView",
            "description_width": ""
          }
        },
        "79fdd0a0601c442aa8a1d660f447b8a5": {
          "model_module": "@jupyter-widgets/controls",
          "model_module_version": "1.5.0",
          "model_name": "HTMLModel",
          "state": {
            "_dom_classes": [],
            "_model_module": "@jupyter-widgets/controls",
            "_model_module_version": "1.5.0",
            "_model_name": "HTMLModel",
            "_view_count": null,
            "_view_module": "@jupyter-widgets/controls",
            "_view_module_version": "1.5.0",
            "_view_name": "HTMLView",
            "description": "",
            "description_tooltip": null,
            "layout": "IPY_MODEL_b8ecfc9e50544ee193bde6dd209f6c81",
            "placeholder": "​",
            "style": "IPY_MODEL_6b8443d3a11c48c9940e542e580c0e34",
            "value": "Batches: 100%"
          }
        },
        "a43b2477a3af4ea5b165648dcfac350d": {
          "model_module": "@jupyter-widgets/controls",
          "model_module_version": "1.5.0",
          "model_name": "DescriptionStyleModel",
          "state": {
            "_model_module": "@jupyter-widgets/controls",
            "_model_module_version": "1.5.0",
            "_model_name": "DescriptionStyleModel",
            "_view_count": null,
            "_view_module": "@jupyter-widgets/base",
            "_view_module_version": "1.2.0",
            "_view_name": "StyleView",
            "description_width": ""
          }
        },
        "b8ecfc9e50544ee193bde6dd209f6c81": {
          "model_module": "@jupyter-widgets/base",
          "model_module_version": "1.2.0",
          "model_name": "LayoutModel",
          "state": {
            "_model_module": "@jupyter-widgets/base",
            "_model_module_version": "1.2.0",
            "_model_name": "LayoutModel",
            "_view_count": null,
            "_view_module": "@jupyter-widgets/base",
            "_view_module_version": "1.2.0",
            "_view_name": "LayoutView",
            "align_content": null,
            "align_items": null,
            "align_self": null,
            "border": null,
            "bottom": null,
            "display": null,
            "flex": null,
            "flex_flow": null,
            "grid_area": null,
            "grid_auto_columns": null,
            "grid_auto_flow": null,
            "grid_auto_rows": null,
            "grid_column": null,
            "grid_gap": null,
            "grid_row": null,
            "grid_template_areas": null,
            "grid_template_columns": null,
            "grid_template_rows": null,
            "height": null,
            "justify_content": null,
            "justify_items": null,
            "left": null,
            "margin": null,
            "max_height": null,
            "max_width": null,
            "min_height": null,
            "min_width": null,
            "object_fit": null,
            "object_position": null,
            "order": null,
            "overflow": null,
            "overflow_x": null,
            "overflow_y": null,
            "padding": null,
            "right": null,
            "top": null,
            "visibility": null,
            "width": null
          }
        },
        "c57f68e62ccd4018b637c98ab02fddc4": {
          "model_module": "@jupyter-widgets/controls",
          "model_module_version": "1.5.0",
          "model_name": "HBoxModel",
          "state": {
            "_dom_classes": [],
            "_model_module": "@jupyter-widgets/controls",
            "_model_module_version": "1.5.0",
            "_model_name": "HBoxModel",
            "_view_count": null,
            "_view_module": "@jupyter-widgets/controls",
            "_view_module_version": "1.5.0",
            "_view_name": "HBoxView",
            "box_style": "",
            "children": [
              "IPY_MODEL_79fdd0a0601c442aa8a1d660f447b8a5",
              "IPY_MODEL_4acb9bf3791041368af4c7d44df9b9f7",
              "IPY_MODEL_fb9809d402e641bb9783ee476e247e9b"
            ],
            "layout": "IPY_MODEL_5956fa36631f4f39a98592caf058fbe3"
          }
        },
        "fb9809d402e641bb9783ee476e247e9b": {
          "model_module": "@jupyter-widgets/controls",
          "model_module_version": "1.5.0",
          "model_name": "HTMLModel",
          "state": {
            "_dom_classes": [],
            "_model_module": "@jupyter-widgets/controls",
            "_model_module_version": "1.5.0",
            "_model_name": "HTMLModel",
            "_view_count": null,
            "_view_module": "@jupyter-widgets/controls",
            "_view_module_version": "1.5.0",
            "_view_name": "HTMLView",
            "description": "",
            "description_tooltip": null,
            "layout": "IPY_MODEL_60d4fc66b6674d2ab96e554be35e535d",
            "placeholder": "​",
            "style": "IPY_MODEL_a43b2477a3af4ea5b165648dcfac350d",
            "value": " 16/16 [00:02&lt;00:00, 10.21it/s]"
          }
        }
      }
    }
  },
  "nbformat": 4,
  "nbformat_minor": 0
}
